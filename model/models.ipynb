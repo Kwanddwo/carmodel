{
 "cells": [
  {
   "cell_type": "code",
   "execution_count": 1,
   "metadata": {},
   "outputs": [],
   "source": [
    "from sklearn.ensemble import RandomForestRegressor\n",
    "from sklearn.model_selection import GridSearchCV, train_test_split\n",
    "from sklearn.metrics import mean_squared_error, mean_absolute_error, r2_score\n",
    "from sklearn.preprocessing import LabelEncoder, QuantileTransformer\n",
    "from sklearn.impute import SimpleImputer\n",
    "\n",
    "import pandas as pd\n",
    "import matplotlib.pyplot as plt"
   ]
  },
  {
   "cell_type": "code",
   "execution_count": 2,
   "metadata": {},
   "outputs": [],
   "source": [
    "data = pd.read_csv('data.csv')\n",
    "\n",
    "data = data.dropna(axis=\"index\" , how=\"any\" , subset=[\"Price\" , \"Body Style\" , \"Fuel Efficiency\" , \"Engine Volume\" , \"Manufacture Year\", \"Powertrain\"])\n",
    "\n",
    "data = data.replace(\"Gas\", \"Petrol\")\n",
    "\n",
    "# Exceptional cases (Prices too high)\n",
    "data = data.drop(index=1693)\n",
    "data = data.drop(index=2336)\n",
    "data = data.drop(index=2390)"
   ]
  },
  {
   "cell_type": "code",
   "execution_count": 3,
   "metadata": {},
   "outputs": [
    {
     "name": "stdout",
     "output_type": "stream",
     "text": [
      "R2 Score: 0.924004856223237\n",
      "Mean Absolute Error: 33887.55012994456\n",
      "Mean Squared Error: 5282404826.935263\n"
     ]
    }
   ],
   "source": [
    "price = data['Price']\n",
    "\n",
    "label_encoder = LabelEncoder()\n",
    "\n",
    "target_encoding = data.groupby('Body Style')['Price'].mean().to_dict()\n",
    "data['Body Style'] = data['Body Style'].map(target_encoding)\n",
    "\n",
    "target_encoding_2 = data.groupby('Variant')['Price'].mean().to_dict()\n",
    "data['Variant'] = data['Variant'].map(target_encoding_2)\n",
    "\n",
    "data['Gearbox'] = label_encoder.fit_transform(data['Gearbox'])\n",
    "data['Manufacturer'] = label_encoder.fit_transform(data['Manufacturer'])\n",
    "data['Powertrain'] = label_encoder.fit_transform(data['Powertrain'])\n",
    "data['License Status'] = label_encoder.fit_transform(data['License Status'])\n",
    "data['Location'] = label_encoder.fit_transform(data['Location'])\n",
    "data['Owner_Type'] = label_encoder.fit_transform(data['Owner_Type'])\n",
    "\n",
    "variables = data.drop('Price', axis=1)\n",
    "\n",
    "# Scale variables using quantile transformer\n",
    "variables = QuantileTransformer().fit_transform(variables)\n",
    "\n",
    "# Create model object\n",
    "rf_regressor = RandomForestRegressor(n_estimators=200, max_depth=12, random_state=1)\n",
    "\n",
    "param_grid = {\n",
    "    'n_estimators': [180, 200, 220],\n",
    "    'max_depth': [10, 12, 14]\n",
    "}\n",
    "\n",
    "model = GridSearchCV(\n",
    "    estimator=rf_regressor,\n",
    "    cv=5,\n",
    "    scoring=['r2', 'neg_mean_squared_error', 'neg_mean_absolute_error'],\n",
    "    refit='r2',\n",
    "    param_grid=param_grid,\n",
    "    n_jobs=-1\n",
    ")\n",
    "\n",
    "# Train the model\n",
    "model.fit(variables, price)\n",
    "\n",
    "# Evaluate the model\n",
    "r2 = model.cv_results_['mean_test_r2']\n",
    "mae = -model.cv_results_['mean_test_neg_mean_absolute_error']\n",
    "mse = -model.cv_results_['mean_test_neg_mean_squared_error']\n",
    "print(f'R2 Score: {r2[0]}')\n",
    "print(f'Mean Absolute Error: {mae[0]}')\n",
    "print(f'Mean Squared Error: {mse[0]}')"
   ]
  },
  {
   "cell_type": "code",
   "execution_count": 4,
   "metadata": {},
   "outputs": [
    {
     "name": "stdout",
     "output_type": "stream",
     "text": [
      "Mean Squared Error: 3445187118.7757297\n",
      "Mean Absolute Error: 30475.25096363637\n",
      "Best R2 Score: 0.9582811569393428\n"
     ]
    },
    {
     "data": {
      "text/plain": [
       "<matplotlib.collections.PathCollection at 0x27d29eb3310>"
      ]
     },
     "execution_count": 4,
     "metadata": {},
     "output_type": "execute_result"
    },
    {
     "data": {
      "image/png": "[encoded data removed]",
      "text/plain": [
       "<Figure size 640x480 with 1 Axes>"
      ]
     },
     "metadata": {},
     "output_type": "display_data"
    }
   ],
   "source": [
    "X_train, X_test, y_train, y_test = train_test_split(variables, price, test_size=0.2, random_state=1)\n",
    "\n",
    "model2 = RandomForestRegressor(n_estimators=100, random_state=1)\n",
    "\n",
    "# Train the model\n",
    "model2.fit(X_train, y_train)\n",
    "\n",
    "# Make predictions on the test set\n",
    "y_pred = model2.predict(X_test)\n",
    "\n",
    "# Evaluate the model\n",
    "mse = mean_squared_error(y_test, y_pred)\n",
    "mae = mean_absolute_error(y_test, y_pred)\n",
    "r2 = r2_score(y_test, y_pred)\n",
    "print(f'Mean Squared Error: {mse}')\n",
    "print(f'Mean Absolute Error: {mae}')\n",
    "print(f'Best R2 Score: {r2}')\n",
    "plt.scatter(y_test, y_pred)"
   ]
  },
  {
   "cell_type": "code",
   "execution_count": 5,
   "metadata": {},
   "outputs": [
    {
     "data": {
      "text/html": [
       "<div>\n",
       "<style scoped>\n",
       "    .dataframe tbody tr th:only-of-type {\n",
       "        vertical-align: middle;\n",
       "    }\n",
       "\n",
       "    .dataframe tbody tr th {\n",
       "        vertical-align: top;\n",
       "    }\n",
       "\n",
       "    .dataframe thead th {\n",
       "        text-align: right;\n",
       "    }\n",
       "</style>\n",
       "<table border=\"1\" class=\"dataframe\">\n",
       "  <thead>\n",
       "    <tr style=\"text-align: right;\">\n",
       "      <th></th>\n",
       "      <th>Price</th>\n",
       "      <th>index</th>\n",
       "    </tr>\n",
       "  </thead>\n",
       "  <tbody>\n",
       "    <tr>\n",
       "      <th>0</th>\n",
       "      <td>81385.414481</td>\n",
       "      <td>1</td>\n",
       "    </tr>\n",
       "    <tr>\n",
       "      <th>1</th>\n",
       "      <td>133479.134113</td>\n",
       "      <td>7</td>\n",
       "    </tr>\n",
       "    <tr>\n",
       "      <th>2</th>\n",
       "      <td>28400.485707</td>\n",
       "      <td>11</td>\n",
       "    </tr>\n",
       "    <tr>\n",
       "      <th>3</th>\n",
       "      <td>267231.132789</td>\n",
       "      <td>17</td>\n",
       "    </tr>\n",
       "    <tr>\n",
       "      <th>4</th>\n",
       "      <td>149466.693434</td>\n",
       "      <td>26</td>\n",
       "    </tr>\n",
       "    <tr>\n",
       "      <th>...</th>\n",
       "      <td>...</td>\n",
       "      <td>...</td>\n",
       "    </tr>\n",
       "    <tr>\n",
       "      <th>1203</th>\n",
       "      <td>346921.025138</td>\n",
       "      <td>4016</td>\n",
       "    </tr>\n",
       "    <tr>\n",
       "      <th>1204</th>\n",
       "      <td>25717.543575</td>\n",
       "      <td>4017</td>\n",
       "    </tr>\n",
       "    <tr>\n",
       "      <th>1205</th>\n",
       "      <td>83105.594286</td>\n",
       "      <td>4018</td>\n",
       "    </tr>\n",
       "    <tr>\n",
       "      <th>1206</th>\n",
       "      <td>173879.433228</td>\n",
       "      <td>4022</td>\n",
       "    </tr>\n",
       "    <tr>\n",
       "      <th>1207</th>\n",
       "      <td>157173.048225</td>\n",
       "      <td>4024</td>\n",
       "    </tr>\n",
       "  </tbody>\n",
       "</table>\n",
       "<p>1208 rows × 2 columns</p>\n",
       "</div>"
      ],
      "text/plain": [
       "              Price  index\n",
       "0      81385.414481      1\n",
       "1     133479.134113      7\n",
       "2      28400.485707     11\n",
       "3     267231.132789     17\n",
       "4     149466.693434     26\n",
       "...             ...    ...\n",
       "1203  346921.025138   4016\n",
       "1204   25717.543575   4017\n",
       "1205   83105.594286   4018\n",
       "1206  173879.433228   4022\n",
       "1207  157173.048225   4024\n",
       "\n",
       "[1208 rows x 2 columns]"
      ]
     },
     "metadata": {},
     "output_type": "display_data"
    }
   ],
   "source": [
    "data2 = pd.read_csv('finaldata.csv')\n",
    "\n",
    "data2 = data2.replace(\"Gas\", \"Diesel\")\n",
    "\n",
    "data2['Body Style'] = data2['Body Style'].map(target_encoding)\n",
    "data2['Variant'] = data2['Variant'].map(target_encoding_2)\n",
    "\n",
    "data2['Gearbox'] = label_encoder.fit_transform(data2['Gearbox'])\n",
    "data2['Manufacturer'] = label_encoder.fit_transform(data2['Manufacturer'])\n",
    "data2['Powertrain'] = label_encoder.fit_transform(data2['Powertrain'])\n",
    "data2['License Status'] = label_encoder.fit_transform(data2['License Status'])\n",
    "data2['Location'] = label_encoder.fit_transform(data2['Location'])\n",
    "data2['Owner_Type'] = label_encoder.fit_transform(data2['Owner_Type'])\n",
    "\n",
    "indexes = data2['index']\n",
    "data2 = data2.drop('index', axis=1)\n",
    "\n",
    "imputer = SimpleImputer(strategy='median')\n",
    "data2 = pd.DataFrame(imputer.fit_transform(data2), columns=data2.columns)\n",
    "\n",
    "data2 = QuantileTransformer().fit_transform(data2)\n",
    "\n",
    "y_compete = model.predict(data2)\n",
    "y_compete = pd.DataFrame(y_compete)\n",
    "y_compete['index'] = indexes\n",
    "y_compete = y_compete.rename(columns={0: 'Price'})\n",
    "display(y_compete)\n"
   ]
  },
  {
   "cell_type": "code",
   "execution_count": 6,
   "metadata": {},
   "outputs": [
    {
     "data": {
      "text/html": [
       "<div>\n",
       "<style scoped>\n",
       "    .dataframe tbody tr th:only-of-type {\n",
       "        vertical-align: middle;\n",
       "    }\n",
       "\n",
       "    .dataframe tbody tr th {\n",
       "        vertical-align: top;\n",
       "    }\n",
       "\n",
       "    .dataframe thead th {\n",
       "        text-align: right;\n",
       "    }\n",
       "</style>\n",
       "<table border=\"1\" class=\"dataframe\">\n",
       "  <thead>\n",
       "    <tr style=\"text-align: right;\">\n",
       "      <th></th>\n",
       "      <th>Price</th>\n",
       "      <th>index</th>\n",
       "    </tr>\n",
       "  </thead>\n",
       "  <tbody>\n",
       "    <tr>\n",
       "      <th>0</th>\n",
       "      <td>81385.414481</td>\n",
       "      <td>1</td>\n",
       "    </tr>\n",
       "    <tr>\n",
       "      <th>1</th>\n",
       "      <td>133479.134113</td>\n",
       "      <td>7</td>\n",
       "    </tr>\n",
       "    <tr>\n",
       "      <th>2</th>\n",
       "      <td>28400.485707</td>\n",
       "      <td>11</td>\n",
       "    </tr>\n",
       "    <tr>\n",
       "      <th>3</th>\n",
       "      <td>267231.132789</td>\n",
       "      <td>17</td>\n",
       "    </tr>\n",
       "    <tr>\n",
       "      <th>4</th>\n",
       "      <td>149466.693434</td>\n",
       "      <td>26</td>\n",
       "    </tr>\n",
       "    <tr>\n",
       "      <th>...</th>\n",
       "      <td>...</td>\n",
       "      <td>...</td>\n",
       "    </tr>\n",
       "    <tr>\n",
       "      <th>1203</th>\n",
       "      <td>346921.025138</td>\n",
       "      <td>4016</td>\n",
       "    </tr>\n",
       "    <tr>\n",
       "      <th>1204</th>\n",
       "      <td>25717.543575</td>\n",
       "      <td>4017</td>\n",
       "    </tr>\n",
       "    <tr>\n",
       "      <th>1205</th>\n",
       "      <td>83105.594286</td>\n",
       "      <td>4018</td>\n",
       "    </tr>\n",
       "    <tr>\n",
       "      <th>1206</th>\n",
       "      <td>173879.433228</td>\n",
       "      <td>4022</td>\n",
       "    </tr>\n",
       "    <tr>\n",
       "      <th>1207</th>\n",
       "      <td>157173.048225</td>\n",
       "      <td>4024</td>\n",
       "    </tr>\n",
       "  </tbody>\n",
       "</table>\n",
       "<p>1208 rows × 2 columns</p>\n",
       "</div>"
      ],
      "text/plain": [
       "              Price  index\n",
       "0      81385.414481      1\n",
       "1     133479.134113      7\n",
       "2      28400.485707     11\n",
       "3     267231.132789     17\n",
       "4     149466.693434     26\n",
       "...             ...    ...\n",
       "1203  346921.025138   4016\n",
       "1204   25717.543575   4017\n",
       "1205   83105.594286   4018\n",
       "1206  173879.433228   4022\n",
       "1207  157173.048225   4024\n",
       "\n",
       "[1208 rows x 2 columns]"
      ]
     },
     "metadata": {},
     "output_type": "display_data"
    }
   ],
   "source": [
    "display(pd.DataFrame(y_compete))\n",
    "y_compete.to_csv('compete.csv')"
   ]
  },
  {
   "cell_type": "code",
   "execution_count": 7,
   "metadata": {},
   "outputs": [
    {
     "data": {
      "text/plain": [
       "\"for key in data.keys():\\n    if key != 'Price':\\n        plt.scatter(data[key], price)\\n        plt.xlabel(key)\\n        plt.ylabel('Price')\\n        plt.title(f'Scatter Plot by {key}')\\n        plt.show()\""
      ]
     },
     "execution_count": 7,
     "metadata": {},
     "output_type": "execute_result"
    }
   ],
   "source": [
    "'''for key in data.keys():\n",
    "    if key != 'Price':\n",
    "        plt.scatter(data[key], price)\n",
    "        plt.xlabel(key)\n",
    "        plt.ylabel('Price')\n",
    "        plt.title(f'Scatter Plot by {key}')\n",
    "        plt.show()'''"
   ]
  }
 ],
 "metadata": {
  "kernelspec": {
   "display_name": "Python 3",
   "language": "python",
   "name": "python3"
  },
  "language_info": {
   "codemirror_mode": {
    "name": "ipython",
    "version": 3
   },
   "file_extension": ".py",
   "mimetype": "text/x-python",
   "name": "python",
   "nbconvert_exporter": "python",
   "pygments_lexer": "ipython3",
   "version": "3.11.3"
  }
 },
 "nbformat": 4,
 "nbformat_minor": 2
}
